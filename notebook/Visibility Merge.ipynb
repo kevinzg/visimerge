{
 "cells": [
  {
   "cell_type": "markdown",
   "metadata": {},
   "source": [
    "# Visibility Merge\n",
    "\n",
    "Divide-and-conquer algorithm for finding visibility regions."
   ]
  },
  {
   "cell_type": "code",
   "execution_count": 1,
   "metadata": {},
   "outputs": [],
   "source": [
    "import math\n",
    "import numpy as np\n",
    "import matplotlib as mpl\n",
    "import matplotlib.pyplot as plt\n",
    "import matplotlib.patches as mplp\n",
    "import matplotlib.collections as mplc\n",
    "from collections import namedtuple\n",
    "\n",
    "from stuff import *\n",
    "\n",
    "%matplotlib inline"
   ]
  },
  {
   "cell_type": "markdown",
   "metadata": {},
   "source": [
    "We use a numpy array of two numbers to represent a point and a 2d numpy array to represent a line segment.\n",
    "\n",
    "To represent a visibility region we use a list of 3-tuples, each 3-tuple has a unit vector representing a direction and two scalars."
   ]
  },
  {
   "cell_type": "code",
   "execution_count": 2,
   "metadata": {},
   "outputs": [],
   "source": [
    "VisVector = namedtuple('VisVector', 'v r l')\n",
    "\n",
    "origin = np.array([0, 0])\n",
    "\n",
    "segments = [np.array([[7, 9], [-5, 2]]),\n",
    "            np.array([[-7, -7], [0, -7]]),\n",
    "            np.array([[5, -5], [10, 0]])]\n",
    "\n",
    "vregion = []\n",
    "for s in segments:\n",
    "    vregion.append(VisVector(normalize(s[0]), -1, norm(s[0])))\n",
    "    vregion.append(VisVector(normalize(s[1]), norm(s[1]), -1))"
   ]
  },
  {
   "cell_type": "markdown",
   "metadata": {},
   "source": [
    "To draw the segments and visiblity region we use the following function."
   ]
  },
  {
   "cell_type": "code",
   "execution_count": 5,
   "metadata": {},
   "outputs": [],
   "source": [
    "def draw(segments=[], region=[], xlim=12, ylim=12):\n",
    "\n",
    "    rlim = math.ceil(max(xlim, ylim) * math.sqrt(2.0))\n",
    "\n",
    "    fig, ax = plt.subplots(figsize=(8, 8))\n",
    "\n",
    "    # Draw line segments\n",
    "\n",
    "    lc = mplc.LineCollection(segments, linewidths=2)\n",
    "    ax.add_collection(lc)\n",
    "\n",
    "    # Draw triangles and wedges\n",
    "\n",
    "    patches = []\n",
    "    unbounded_regions = []\n",
    "    \n",
    "    iv = np.array([1, 0])\n",
    "    \n",
    "    for i, vec in enumerate(region):\n",
    "\n",
    "        pvec = region[i - 1] if i > 0 else VisVector(iv, -1, -1)\n",
    "\n",
    "        if vec.r < 0 and not np.array_equal(vec.v, pvec.v):\n",
    "            unbounded_regions.append((atan2(pvec.v), atan2(vec.v)))\n",
    "\n",
    "        if vec.r > 0 and pvec.l > 0:\n",
    "            patches.append(mplp.Polygon(np.array([origin, pvec.v * pvec.l, vec.v * vec.r]), True))\n",
    "\n",
    "    if len(region) > 0 and not np.array_equal(region[-1].v, iv):\n",
    "        unbounded_regions.append((atan2(region[-1].v), 0))\n",
    "\n",
    "    for (t1, t2) in unbounded_regions:\n",
    "        patches.append(mplp.Wedge(origin, rlim, t1 * 180 / math.pi, t2 * 180 / math.pi))\n",
    "\n",
    "    pc = mplc.PatchCollection(patches, alpha=0.4)\n",
    "    ax.add_collection(pc)\n",
    "\n",
    "    # Draw origin\n",
    "\n",
    "    ax.plot([origin], marker='o')\n",
    "\n",
    "    # mpl stuff\n",
    "\n",
    "    ax.margins(0.1)\n",
    "    ax.set_aspect('equal', 'box')\n",
    "\n",
    "    ax.set_xlim(-xlim, xlim)\n",
    "    ax.set_ylim(-ylim, ylim)"
   ]
  },
  {
   "cell_type": "code",
   "execution_count": 6,
   "metadata": {},
   "outputs": [
    {
     "data": {
      "image/png": "[encoded data removed]",
      "text/plain": [
       "<matplotlib.figure.Figure at 0x7f8d17ba1a58>"
      ]
     },
     "metadata": {},
     "output_type": "display_data"
    }
   ],
   "source": [
    "draw(segments, vregion)"
   ]
  }
 ],
 "metadata": {
  "kernelspec": {
   "display_name": "Python 3",
   "language": "python",
   "name": "python3"
  },
  "language_info": {
   "codemirror_mode": {
    "name": "ipython",
    "version": 3
   },
   "file_extension": ".py",
   "mimetype": "text/x-python",
   "name": "python",
   "nbconvert_exporter": "python",
   "pygments_lexer": "ipython3",
   "version": "3.6.4"
  }
 },
 "nbformat": 4,
 "nbformat_minor": 2
}
